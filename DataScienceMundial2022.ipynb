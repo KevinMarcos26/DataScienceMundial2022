{
  "nbformat": 4,
  "nbformat_minor": 0,
  "metadata": {
    "colab": {
      "provenance": [],
      "authorship_tag": "ABX9TyO41UpagylBvFVzLCCP11xu",
      "include_colab_link": true
    },
    "kernelspec": {
      "name": "python3",
      "display_name": "Python 3"
    },
    "language_info": {
      "name": "python"
    }
  },
  "cells": [
    {
      "cell_type": "markdown",
      "metadata": {
        "id": "view-in-github",
        "colab_type": "text"
      },
      "source": [
        "<a href=\"https://colab.research.google.com/github/KevinMarcos26/DataScienceMundial2022/blob/main/DataScienceMundial2022.ipynb\" target=\"_parent\"><img src=\"https://colab.research.google.com/assets/colab-badge.svg\" alt=\"Open In Colab\"/></a>"
      ]
    },
    {
      "cell_type": "markdown",
      "source": [
        "**PROYECTO DATA SCIENCE 2022 WORLD CUP QATAR**"
      ],
      "metadata": {
        "id": "TfOH88gB5Utp"
      }
    },
    {
      "cell_type": "markdown",
      "source": [
        "EXTRACCIÓN DE DATOS"
      ],
      "metadata": {
        "id": "k1PYCFDF5bqn"
      }
    },
    {
      "cell_type": "code",
      "execution_count": 15,
      "metadata": {
        "id": "w2JS5hgQyVMU"
      },
      "outputs": [],
      "source": [
        "import pandas as pd\n",
        "from string import ascii_uppercase as alfa\n",
        "import pickle"
      ]
    },
    {
      "cell_type": "code",
      "source": [
        "tablas_mundial = pd.read_html(\"https://web.archive.org/web/20221115040351/https://en.wikipedia.org/wiki/2022_FIFA_World_Cup\")"
      ],
      "metadata": {
        "id": "Sw0LDC4Ryub4"
      },
      "execution_count": 16,
      "outputs": []
    },
    {
      "cell_type": "code",
      "source": [
        "tablas_mundial[19].columns"
      ],
      "metadata": {
        "id": "aOLHW4-2zL-O"
      },
      "execution_count": null,
      "outputs": []
    },
    {
      "cell_type": "code",
      "source": [
        "tablas_mundial[61]"
      ],
      "metadata": {
        "id": "PLM9OqjY1SqJ"
      },
      "execution_count": null,
      "outputs": []
    },
    {
      "cell_type": "code",
      "source": [
        "alfa"
      ],
      "metadata": {
        "id": "fUIpzPV04WJn"
      },
      "execution_count": null,
      "outputs": []
    },
    {
      "cell_type": "code",
      "source": [
        "tablas_mundial = pd.read_html(\"https://web.archive.org/web/20221115040351/https://en.wikipedia.org/wiki/2022_FIFA_World_Cup\")\n",
        "\n",
        "dict = {}\n",
        "for letra, i in zip(alfa,range(12,68,7)):\n",
        "  df = tablas_mundial[i]\n",
        "  df.rename(columns={df.columns[1]: 'Team'}, inplace= True)\n",
        "  df.pop(\"Qualification\")\n",
        "  dict[f'Grupo {letra}'] = df\n",
        "  print(df)\n"
      ],
      "metadata": {
        "id": "Q9FQyc1mzsB5"
      },
      "execution_count": null,
      "outputs": []
    },
    {
      "cell_type": "code",
      "source": [
        "dict.keys()"
      ],
      "metadata": {
        "colab": {
          "base_uri": "https://localhost:8080/"
        },
        "id": "J-VJnRFK5Nuo",
        "outputId": "1b2e815e-0bee-47c6-c3e0-630ff3ec9018"
      },
      "execution_count": 18,
      "outputs": [
        {
          "output_type": "execute_result",
          "data": {
            "text/plain": [
              "dict_keys(['Grupo A', 'Grupo B', 'Grupo C', 'Grupo D', 'Grupo E', 'Grupo F', 'Grupo G', 'Grupo H'])"
            ]
          },
          "metadata": {},
          "execution_count": 18
        }
      ]
    },
    {
      "cell_type": "code",
      "source": [
        "dict['Grupo H']"
      ],
      "metadata": {
        "id": "Jl3G5DqH5lCn"
      },
      "execution_count": null,
      "outputs": []
    },
    {
      "cell_type": "code",
      "source": [
        "with open('dict', 'wb') as output:\n",
        "   pickle.dump(dict,output)"
      ],
      "metadata": {
        "id": "ohGo1eQs6Qe7"
      },
      "execution_count": 19,
      "outputs": []
    },
    {
      "cell_type": "code",
      "source": [
        "pip install bs4"
      ],
      "metadata": {
        "id": "P6c0FwCp7ryh"
      },
      "execution_count": null,
      "outputs": []
    },
    {
      "cell_type": "code",
      "source": [
        "pip install lxml"
      ],
      "metadata": {
        "id": "U6f-yeCS9z9r"
      },
      "execution_count": null,
      "outputs": []
    },
    {
      "cell_type": "code",
      "source": [
        "from bs4 import BeautifulSoup\n",
        "import requests\n",
        "import pandas\n",
        "import lxml\n",
        "\n",
        "\n",
        "years = [1930, 1934, 1938, 1950, 1954, 1958, 1962, 1966, 1970, 1974,\n",
        "         1978, 1982, 1986, 1990, 1994, 1998, 2002, 2006, 2010, 2014,\n",
        "         2018]\n",
        "\n",
        "def get_matches(year):\n",
        "  web = f'https://en.wikipedia.org/wiki/{year}_FIFA_World_Cup'\n",
        "  response = requests.get(web)\n",
        "  content = response.text\n",
        "  soup = BeautifulSoup(content,'lxml')\n",
        "  matches = soup.find_all('div',class_='footballbox')\n",
        "\n",
        "  home = []\n",
        "  score = []\n",
        "  away = []\n",
        "\n",
        "  for match in matches:\n",
        "     home.append(match.find('th', class_='fhome').get_text)\n",
        "     score.append(match.find('th', class_='fscore').get_text)\n",
        "     away.append(match.find('th', class_='faway').get_text)\n",
        "\n",
        "     dict_football = {'home': home, 'score': score, 'away': away}\n",
        "     df_football = pd.DataFrame(dict_football)\n",
        "     df_football['year'] = year\n",
        "     return df_football\n",
        "\n",
        "fifa = [get_matches(year) for year in years]\n",
        "df_fifa = pd.concat(fifa, ignore_index=True)\n",
        "df_fifa.to_csv(\"fifa_worldcup_historical_data.csv\", index=False)\n",
        "\n",
        "# fixture\n",
        "df_fixture = get_matches(2022)\n",
        "df_fixture.to_csv('fifa_worldcup_fixture.csv', index=False)\n"
      ],
      "metadata": {
        "id": "_RLd-Y6s7zTi"
      },
      "execution_count": null,
      "outputs": []
    },
    {
      "cell_type": "code",
      "source": [
        "pip install selenium"
      ],
      "metadata": {
        "id": "9vADK2zSdgEt"
      },
      "execution_count": null,
      "outputs": []
    },
    {
      "cell_type": "code",
      "source": [
        "from selenium import webdriver\n",
        "from selenium.webdriver.chrome.service import Service\n",
        "import time\n",
        "import pandas as pd\n",
        "\n",
        "path = \"content/chromedriver.exe\"\n",
        "service = Service(executable_path = path)\n",
        "driver = webdriver.Chrome(service = service)\n",
        "\n",
        "def get_misssing_data(year):\n",
        "    web = f'https://en.wikipedia.org/wiki/{year}_FIFA_World_Cup'\n",
        "\n",
        "    driver.get(web)\n",
        "    matches = driver.find_elements(by='xpath', value='//td[@align=\"right\"]/.. | //td[@style=\"text-align:right;\"]/..')\n",
        "    # matches = driver.find_elements(by='xpath', value='//tr[@style=\"font-size:90%\"]')\n",
        "\n",
        "    home = []\n",
        "    score = []\n",
        "    away = []\n",
        "\n",
        "    for match in matches:\n",
        "        home.append(match.find_element(by='xpath', value='./td[1]').text)\n",
        "        score.append(match.find_element(by='xpath', value='./td[2]').text)\n",
        "        away.append(match.find_element(by='xpath', value='./td[3]').text)\n",
        "\n",
        "    dict_football = {'home': home, 'score': score, 'away': away}\n",
        "    df_football = pd.DataFrame(dict_football)\n",
        "    df_football['year'] = year\n",
        "    time.sleep(2)\n",
        "    return df_football\n",
        "\n",
        "\n",
        "years = [1930, 1934, 1938, 1950, 1954, 1958, 1962, 1966, 1970, 1974,\n",
        "         1978, 1982, 1986, 1990, 1994, 1998, 2002, 2006, 2010, 2014,\n",
        "         2018]\n",
        "\n",
        "fifa = [get_misssing_data(year) for year in years]\n",
        "driver.quit()\n",
        "df_fifa = pd.concat(fifa, ignore_index=True)\n",
        "df_fifa.to_csv(\"fifa_worldcup_missing_data.csv\", index=False)\n",
        "\n"
      ],
      "metadata": {
        "id": "Mhhv-n86dsrf"
      },
      "execution_count": null,
      "outputs": []
    },
    {
      "cell_type": "markdown",
      "source": [
        "**LIMPIEZA DATOS**"
      ],
      "metadata": {
        "id": "L3qUcLeBqMHD"
      }
    },
    {
      "cell_type": "code",
      "source": [
        "import pandas as pd"
      ],
      "metadata": {
        "id": "kTxQOeKPqPkT"
      },
      "execution_count": 8,
      "outputs": []
    },
    {
      "cell_type": "code",
      "source": [
        "df_historical_data = pd.read_csv('/content/fifa_worldcup_historical_data.csv')\n",
        "df_fixture = pd.read_csv('/content/fifa_worldcup_fixture.csv')\n",
        "df_missing_data = pd.read_csv('/content/fifa_worldcup_missing_data.csv')"
      ],
      "metadata": {
        "id": "LKChrmDtrN_j"
      },
      "execution_count": 9,
      "outputs": []
    },
    {
      "cell_type": "code",
      "source": [
        "df_fixture"
      ],
      "metadata": {
        "id": "l_zhM-H_rXrz"
      },
      "execution_count": null,
      "outputs": []
    },
    {
      "cell_type": "code",
      "source": [
        "df_fixture['home'] = df_fixture['home'].str.strip()\n",
        "df_fixture['away'] = df_fixture['away'].str.strip()"
      ],
      "metadata": {
        "id": "33FdxQuVrcAc"
      },
      "execution_count": 11,
      "outputs": []
    },
    {
      "cell_type": "code",
      "source": [
        "df_missing_data.dropna(inplace=True)\n",
        "df_historical_data = pd.concat([df_historical_data, df_missing_data], ignore_index=True)\n",
        "df_historical_data.drop_duplicates(inplace=True)\n",
        "df_historical_data.sort_values('year', inplace=True)\n",
        "df_historical_data"
      ],
      "metadata": {
        "id": "HLwqC5vysNnz"
      },
      "execution_count": null,
      "outputs": []
    },
    {
      "cell_type": "code",
      "source": [
        "# deleting match with walk over\n",
        "delete_index = df_historical_data[df_historical_data['home'].str.contains('Sweden') &\n",
        "                                  df_historical_data['away'].str.contains('Austria')].index\n",
        "\n",
        "df_historical_data.drop(index=delete_index, inplace=True)\n",
        "\n",
        "# cleanning score and home/away columns\n",
        "df_historical_data['score'] = df_historical_data['score'].str.replace('[^\\d–]', '', regex=True)\n",
        "df_historical_data['home'] = df_historical_data['home'].str.strip() # clean blank spaces: Yugoslavia twice\n",
        "df_historical_data['away'] = df_historical_data['away'].str.strip()\n",
        "\n",
        "# splitting score columns into home and away goals and dropping score column\n",
        "df_historical_data[['HomeGoals', 'AwayGoals']] = df_historical_data['score'].str.split('–', expand=True)\n",
        "df_historical_data.drop('score', axis=1, inplace=True)\n",
        "\n",
        "# renaming columns and changing data types\n",
        "df_historical_data.rename(columns={'home': 'HomeTeam', 'away': 'AwayTeam', \n",
        "                                   'year':'Year'}, inplace=True)\n",
        "df_historical_data = df_historical_data.astype({'HomeGoals': int, 'AwayGoals':int, 'Year': int})\n",
        "\n",
        "# creating new column \"totalgoals\"\n",
        "df_historical_data['TotalGoals'] = df_historical_data['HomeGoals'] + df_historical_data['AwayGoals']\n",
        "df_historical_data"
      ],
      "metadata": {
        "id": "x39WSpeWthtz"
      },
      "execution_count": null,
      "outputs": []
    },
    {
      "cell_type": "code",
      "source": [
        "df_historical_data.to_csv('clean_fifa_worldcup_matches.csv',index=False)\n",
        "df_fixture.to_csv('clean_fifa_worldcup_fixture.csv',index=False)"
      ],
      "metadata": {
        "id": "AL9sYkIDtka7"
      },
      "execution_count": 14,
      "outputs": []
    },
    {
      "cell_type": "markdown",
      "source": [
        "**MODELO DE PROBABILIDAD**"
      ],
      "metadata": {
        "id": "RWeJHqfqunPh"
      }
    },
    {
      "cell_type": "code",
      "source": [
        "import pandas as pd\n",
        "import pickle\n",
        "from scipy.stats import poisson"
      ],
      "metadata": {
        "id": "WWk742Rmumhy"
      },
      "execution_count": 20,
      "outputs": []
    },
    {
      "cell_type": "code",
      "source": [
        "dict_table = pickle.load(open('dict','rb'))\n",
        "df_historical_data = pd.read_csv('/content/clean_fifa_worldcup_matches.csv')\n",
        "df_fixture = pd.read_csv('/content/clean_fifa_worldcup_fixture.csv')"
      ],
      "metadata": {
        "id": "XWiQeZsgvQ6l"
      },
      "execution_count": 21,
      "outputs": []
    },
    {
      "cell_type": "code",
      "source": [
        "dict.keys()"
      ],
      "metadata": {
        "id": "VfcXc-aavlGb"
      },
      "execution_count": null,
      "outputs": []
    },
    {
      "cell_type": "code",
      "source": [
        "df_home = df_historical_data[['HomeTeam', 'HomeGoals', 'AwayGoals']]\n",
        "df_away = df_historical_data[['AwayTeam', 'HomeGoals', 'AwayGoals']]\n",
        "\n",
        "df_home = df_home.rename(columns={'HomeTeam':'Team', 'HomeGoals': 'GoalsScored', 'AwayGoals': 'GoalsConceded'})\n",
        "df_away = df_away.rename(columns={'AwayTeam':'Team', 'HomeGoals': 'GoalsConceded', 'AwayGoals': 'GoalsScored'})\n",
        "\n",
        "df_team_strength = pd.concat([df_home, df_away], ignore_index=True).groupby(['Team']).mean()\n",
        "df_team_strength"
      ],
      "metadata": {
        "colab": {
          "base_uri": "https://localhost:8080/",
          "height": 455
        },
        "id": "P_IWV-ldvvtb",
        "outputId": "055762e7-7fc7-4513-b614-c9973fd33791"
      },
      "execution_count": 23,
      "outputs": [
        {
          "output_type": "execute_result",
          "data": {
            "text/plain": [
              "              GoalsScored  GoalsConceded\n",
              "Team                                    \n",
              "Algeria          1.000000       1.461538\n",
              "Angola           0.333333       0.666667\n",
              "Argentina        1.691358       1.148148\n",
              "Australia        0.812500       1.937500\n",
              "Austria          1.482759       1.620690\n",
              "...                   ...            ...\n",
              "Uruguay          1.553571       1.321429\n",
              "Wales            0.800000       0.800000\n",
              "West Germany     2.112903       1.241935\n",
              "Yugoslavia       1.666667       1.272727\n",
              "Zaire            0.000000       4.666667\n",
              "\n",
              "[85 rows x 2 columns]"
            ],
            "text/html": [
              "\n",
              "  <div id=\"df-e15390d3-cd84-47d6-941a-fd56fcab871c\">\n",
              "    <div class=\"colab-df-container\">\n",
              "      <div>\n",
              "<style scoped>\n",
              "    .dataframe tbody tr th:only-of-type {\n",
              "        vertical-align: middle;\n",
              "    }\n",
              "\n",
              "    .dataframe tbody tr th {\n",
              "        vertical-align: top;\n",
              "    }\n",
              "\n",
              "    .dataframe thead th {\n",
              "        text-align: right;\n",
              "    }\n",
              "</style>\n",
              "<table border=\"1\" class=\"dataframe\">\n",
              "  <thead>\n",
              "    <tr style=\"text-align: right;\">\n",
              "      <th></th>\n",
              "      <th>GoalsScored</th>\n",
              "      <th>GoalsConceded</th>\n",
              "    </tr>\n",
              "    <tr>\n",
              "      <th>Team</th>\n",
              "      <th></th>\n",
              "      <th></th>\n",
              "    </tr>\n",
              "  </thead>\n",
              "  <tbody>\n",
              "    <tr>\n",
              "      <th>Algeria</th>\n",
              "      <td>1.000000</td>\n",
              "      <td>1.461538</td>\n",
              "    </tr>\n",
              "    <tr>\n",
              "      <th>Angola</th>\n",
              "      <td>0.333333</td>\n",
              "      <td>0.666667</td>\n",
              "    </tr>\n",
              "    <tr>\n",
              "      <th>Argentina</th>\n",
              "      <td>1.691358</td>\n",
              "      <td>1.148148</td>\n",
              "    </tr>\n",
              "    <tr>\n",
              "      <th>Australia</th>\n",
              "      <td>0.812500</td>\n",
              "      <td>1.937500</td>\n",
              "    </tr>\n",
              "    <tr>\n",
              "      <th>Austria</th>\n",
              "      <td>1.482759</td>\n",
              "      <td>1.620690</td>\n",
              "    </tr>\n",
              "    <tr>\n",
              "      <th>...</th>\n",
              "      <td>...</td>\n",
              "      <td>...</td>\n",
              "    </tr>\n",
              "    <tr>\n",
              "      <th>Uruguay</th>\n",
              "      <td>1.553571</td>\n",
              "      <td>1.321429</td>\n",
              "    </tr>\n",
              "    <tr>\n",
              "      <th>Wales</th>\n",
              "      <td>0.800000</td>\n",
              "      <td>0.800000</td>\n",
              "    </tr>\n",
              "    <tr>\n",
              "      <th>West Germany</th>\n",
              "      <td>2.112903</td>\n",
              "      <td>1.241935</td>\n",
              "    </tr>\n",
              "    <tr>\n",
              "      <th>Yugoslavia</th>\n",
              "      <td>1.666667</td>\n",
              "      <td>1.272727</td>\n",
              "    </tr>\n",
              "    <tr>\n",
              "      <th>Zaire</th>\n",
              "      <td>0.000000</td>\n",
              "      <td>4.666667</td>\n",
              "    </tr>\n",
              "  </tbody>\n",
              "</table>\n",
              "<p>85 rows × 2 columns</p>\n",
              "</div>\n",
              "      <button class=\"colab-df-convert\" onclick=\"convertToInteractive('df-e15390d3-cd84-47d6-941a-fd56fcab871c')\"\n",
              "              title=\"Convert this dataframe to an interactive table.\"\n",
              "              style=\"display:none;\">\n",
              "        \n",
              "  <svg xmlns=\"http://www.w3.org/2000/svg\" height=\"24px\"viewBox=\"0 0 24 24\"\n",
              "       width=\"24px\">\n",
              "    <path d=\"M0 0h24v24H0V0z\" fill=\"none\"/>\n",
              "    <path d=\"M18.56 5.44l.94 2.06.94-2.06 2.06-.94-2.06-.94-.94-2.06-.94 2.06-2.06.94zm-11 1L8.5 8.5l.94-2.06 2.06-.94-2.06-.94L8.5 2.5l-.94 2.06-2.06.94zm10 10l.94 2.06.94-2.06 2.06-.94-2.06-.94-.94-2.06-.94 2.06-2.06.94z\"/><path d=\"M17.41 7.96l-1.37-1.37c-.4-.4-.92-.59-1.43-.59-.52 0-1.04.2-1.43.59L10.3 9.45l-7.72 7.72c-.78.78-.78 2.05 0 2.83L4 21.41c.39.39.9.59 1.41.59.51 0 1.02-.2 1.41-.59l7.78-7.78 2.81-2.81c.8-.78.8-2.07 0-2.86zM5.41 20L4 18.59l7.72-7.72 1.47 1.35L5.41 20z\"/>\n",
              "  </svg>\n",
              "      </button>\n",
              "      \n",
              "  <style>\n",
              "    .colab-df-container {\n",
              "      display:flex;\n",
              "      flex-wrap:wrap;\n",
              "      gap: 12px;\n",
              "    }\n",
              "\n",
              "    .colab-df-convert {\n",
              "      background-color: #E8F0FE;\n",
              "      border: none;\n",
              "      border-radius: 50%;\n",
              "      cursor: pointer;\n",
              "      display: none;\n",
              "      fill: #1967D2;\n",
              "      height: 32px;\n",
              "      padding: 0 0 0 0;\n",
              "      width: 32px;\n",
              "    }\n",
              "\n",
              "    .colab-df-convert:hover {\n",
              "      background-color: #E2EBFA;\n",
              "      box-shadow: 0px 1px 2px rgba(60, 64, 67, 0.3), 0px 1px 3px 1px rgba(60, 64, 67, 0.15);\n",
              "      fill: #174EA6;\n",
              "    }\n",
              "\n",
              "    [theme=dark] .colab-df-convert {\n",
              "      background-color: #3B4455;\n",
              "      fill: #D2E3FC;\n",
              "    }\n",
              "\n",
              "    [theme=dark] .colab-df-convert:hover {\n",
              "      background-color: #434B5C;\n",
              "      box-shadow: 0px 1px 3px 1px rgba(0, 0, 0, 0.15);\n",
              "      filter: drop-shadow(0px 1px 2px rgba(0, 0, 0, 0.3));\n",
              "      fill: #FFFFFF;\n",
              "    }\n",
              "  </style>\n",
              "\n",
              "      <script>\n",
              "        const buttonEl =\n",
              "          document.querySelector('#df-e15390d3-cd84-47d6-941a-fd56fcab871c button.colab-df-convert');\n",
              "        buttonEl.style.display =\n",
              "          google.colab.kernel.accessAllowed ? 'block' : 'none';\n",
              "\n",
              "        async function convertToInteractive(key) {\n",
              "          const element = document.querySelector('#df-e15390d3-cd84-47d6-941a-fd56fcab871c');\n",
              "          const dataTable =\n",
              "            await google.colab.kernel.invokeFunction('convertToInteractive',\n",
              "                                                     [key], {});\n",
              "          if (!dataTable) return;\n",
              "\n",
              "          const docLinkHtml = 'Like what you see? Visit the ' +\n",
              "            '<a target=\"_blank\" href=https://colab.research.google.com/notebooks/data_table.ipynb>data table notebook</a>'\n",
              "            + ' to learn more about interactive tables.';\n",
              "          element.innerHTML = '';\n",
              "          dataTable['output_type'] = 'display_data';\n",
              "          await google.colab.output.renderOutput(dataTable, element);\n",
              "          const docLink = document.createElement('div');\n",
              "          docLink.innerHTML = docLinkHtml;\n",
              "          element.appendChild(docLink);\n",
              "        }\n",
              "      </script>\n",
              "    </div>\n",
              "  </div>\n",
              "  "
            ]
          },
          "metadata": {},
          "execution_count": 23
        }
      ]
    },
    {
      "cell_type": "code",
      "source": [
        "def predict_points(home, away):\n",
        "    if home in df_team_strength.index and away in df_team_strength.index:\n",
        "        # goals_scored * goals_conceded\n",
        "        lamb_home = df_team_strength.at[home,'GoalsScored'] * df_team_strength.at[away,'GoalsConceded']\n",
        "        lamb_away = df_team_strength.at[away,'GoalsScored'] * df_team_strength.at[home,'GoalsConceded']\n",
        "        prob_home, prob_away, prob_draw = 0, 0, 0\n",
        "        for x in range(0,11): #number of goals home team\n",
        "            for y in range(0, 11): #number of goals away team\n",
        "                p = poisson.pmf(x, lamb_home) * poisson.pmf(y, lamb_away)\n",
        "                if x == y:\n",
        "                    prob_draw += p\n",
        "                elif x > y:\n",
        "                    prob_home += p\n",
        "                else:\n",
        "                    prob_away += p\n",
        "        \n",
        "        points_home = 3 * prob_home + prob_draw\n",
        "        points_away = 3 * prob_away + prob_draw\n",
        "        return (points_home, points_away)\n",
        "    else:\n",
        "        return (0, 0)\n"
      ],
      "metadata": {
        "id": "C-Gm1J21xTxj"
      },
      "execution_count": 24,
      "outputs": []
    },
    {
      "cell_type": "code",
      "source": [
        "print(predict_points('Argentina','Brazil'))"
      ],
      "metadata": {
        "colab": {
          "base_uri": "https://localhost:8080/"
        },
        "id": "8Ni4D_z9zAVn",
        "outputId": "7b2b983b-b0d7-4185-fead-80d5833c1271"
      },
      "execution_count": 48,
      "outputs": [
        {
          "output_type": "stream",
          "name": "stdout",
          "text": [
            "(0.961485596233405, 1.845703399768912)\n"
          ]
        }
      ]
    },
    {
      "cell_type": "code",
      "source": [
        "print(predict_points('England','United States'))"
      ],
      "metadata": {
        "colab": {
          "base_uri": "https://localhost:8080/"
        },
        "id": "RUToapopzAWr",
        "outputId": "583dcea4-b6d9-49b4-d808-467b9e94c12a"
      },
      "execution_count": 26,
      "outputs": [
        {
          "output_type": "stream",
          "name": "stdout",
          "text": [
            "(2.2356147635326007, 0.5922397535606193)\n"
          ]
        }
      ]
    },
    {
      "cell_type": "code",
      "source": [
        "df_fixture_group_48 = df_fixture[:48].copy()\n",
        "df_fixture_knockout = df_fixture[48:56].copy()\n",
        "df_fixture_quarter = df_fixture[56:60].copy()\n",
        "df_fixture_semi = df_fixture[60:62].copy()\n",
        "df_fixture_final = df_fixture[62:].copy()"
      ],
      "metadata": {
        "id": "_kmkc3u5zhuV"
      },
      "execution_count": 31,
      "outputs": []
    },
    {
      "cell_type": "code",
      "source": [
        "for group in dict:\n",
        "    teams_in_group = dict[group]['Team'].values\n",
        "    df_fixture_group_6 = df_fixture_group_48[df_fixture_group_48['home'].isin(teams_in_group)]\n",
        "    for index, row in df_fixture_group_6.iterrows():\n",
        "        home, away = row['home'], row['away']\n",
        "        points_home, points_away = predict_points(home, away)\n",
        "        dict[group].loc[dict[group]['Team'] == home, 'Pts'] += points_home\n",
        "        dict[group].loc[dict[group]['Team'] == away, 'Pts'] += points_away\n",
        "\n",
        "    dict[group] = dict[group].sort_values('Pts', ascending=False).reset_index()\n",
        "    dict[group] = dict[group][['Team', 'Pts']]\n",
        "    dict[group] = dict[group].round(0)\n"
      ],
      "metadata": {
        "id": "BcSCbxnSz-P1"
      },
      "execution_count": 40,
      "outputs": []
    },
    {
      "cell_type": "code",
      "source": [
        "dict['Grupo C']"
      ],
      "metadata": {
        "id": "SSXLMWuiz-RP"
      },
      "execution_count": null,
      "outputs": []
    }
  ]
}